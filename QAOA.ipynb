{
 "cells": [
  {
   "cell_type": "code",
   "execution_count": 1,
   "metadata": {},
   "outputs": [],
   "source": [
    "#adapted from https://github.com/QuCO-CSAM/Solving-Combinatorial-Optimisation-Problems-Using-Quantum-Algorithms/blob/main/QuadraticAssignmentProblem/Code/QAOA.ipynb\n",
    "import qiskit\n",
    "from qiskit import Aer\n",
    "from qiskit.aqua.algorithms import QAOA\n",
    "from qiskit.aqua.components.optimizers import SPSA, COBYLA\n",
    "from qiskit.circuit.library import RealAmplitudes,TwoLocal #(uses CX entangling) \n",
    "from qiskit.aqua import QuantumInstance\n",
    "\n",
    "\n",
    "# for the part that translates QAP into QUBO\n",
    "from docplex.mp.model import Model\n",
    "from qiskit.optimization import QuadraticProgram\n",
    "from qiskit.optimization.applications.ising import docplex\n",
    "\n",
    "# setup aqua logging\n",
    "import logging\n",
    "from qiskit.aqua import set_qiskit_aqua_logging\n",
    "# set_qiskit_aqua_logging(logging.DEBUG)  # choose INFO, DEBUG to see the log if you need to\n",
    "\n",
    "# useful additional packages \n",
    "%matplotlib inline\n",
    "import numpy as np\n",
    "import pandas as pd\n",
    "import math\n",
    "import numba"
   ]
  },
  {
   "cell_type": "code",
   "execution_count": 2,
   "metadata": {},
   "outputs": [],
   "source": [
    "# Visualization libraries\n",
    "import networkx as nx\n",
    "import matplotlib.pyplot as plt\n",
    "import QAP_algos as qapalg"
   ]
  },
  {
   "cell_type": "markdown",
   "metadata": {},
   "source": [
    "QAPLib integration"
   ]
  },
  {
   "cell_type": "code",
   "execution_count": 3,
   "metadata": {},
   "outputs": [],
   "source": [
    "%%capture\n",
    "#qap_problem = \"chr8a\"\n",
    "#path_problem = f'QAP_instances/qaplib/{qap_problem}.dat'\n",
    "#path_solution = f'QAP_instances/qaplib/{qap_problem}.sln'\n",
    "\"\"\"\n",
    "### Alternatively, to load planted problems, uncomment the next three lines (and comment the lines above)\n",
    "qap_problem = \"problem_1\"\n",
    "path_problem = f'QAP_instances/planted/qap-8/{qap_problem}.dat'\n",
    "path_solution = f'QAP_instances/planted/qap-8/{qap_problem}.sln'\n",
    "\n",
    "n, f, d = qap.read_problem_to_lists(path_problem)\n",
    "n, F, D = qap.read_problem_to_matrices(path_problem)\n",
    "solution_config, f_optimal = qap.read_solution(path_solution)\n",
    "print(f\"The chosen problem is {qap_problem}, with {n} facilities and {n} locations\")\n",
    "print(f\"The optimal objective function is {f_optimal}, with optimal configuration {solution_config}\")\n",
    "\"\"\""
   ]
  },
  {
   "cell_type": "code",
   "execution_count": 4,
   "metadata": {},
   "outputs": [],
   "source": [
    "def CSVtoNumpyArray(rawdata):\n",
    "    \"\"\"\n",
    "    Input: \n",
    "    rawdata = a csv file (insert name as a string)\n",
    "\n",
    "    Output:\n",
    "    two numpy matrices in a tuple\n",
    "    \"\"\"\n",
    "    data = pd.read_csv(rawdata)  #Reads the data in as a pandas object\n",
    "    c = data.columns\n",
    "    column = int(c[0])\n",
    "    final_data1 = data.iloc[:column,:].values  #Sets data into a series of numpy arrays of strings\n",
    "    final_data2 = data.iloc[column:,:].values  #1 is for the first matrix(loc) and 2 is for the second(flow)\n",
    "    \n",
    "\n",
    "    #Forms the matrix as a numpy array (easier to work with) instead of an list of lists of strings\n",
    "    def string_to_integers(final_data):\n",
    "        matrix = []\n",
    "        for j in range(column):\n",
    "            string = final_data[j][0]\n",
    "            string2 = string.split(\" \")\n",
    "            emptyarray = []\n",
    "            for i in string2:\n",
    "                if i != '':\n",
    "                    emptyarray.append(int(i))\n",
    "            matrix.append(emptyarray)\n",
    "        npmatrix = np.array(matrix) \n",
    "        return npmatrix\n",
    "    return string_to_integers(final_data1),string_to_integers(final_data2)"
   ]
  },
  {
   "cell_type": "code",
   "execution_count": 5,
   "metadata": {},
   "outputs": [],
   "source": [
    "def qap_value(z, MatrixLoc, MatrixFlow):\n",
    "    \"\"\"\n",
    "    Input:\n",
    "    z (list[int]): list of allocations\n",
    "    MatrixLoc (numpy array): matrix of distances\n",
    "    MatrixFlow (numpy array): matrix of flow\n",
    "    \n",
    "    Output:\n",
    "    float: value of the QAP\n",
    "    \"\"\"\n",
    "    matrix_length = len(MatrixLoc)\n",
    "    x = np.reshape(z, (matrix_length,matrix_length))\n",
    "    \n",
    "    total = 0\n",
    "    for i in range(matrix_length):\n",
    "        for j in range(matrix_length):\n",
    "            for k in range(matrix_length):\n",
    "                for p in range(matrix_length):\n",
    "                        total += MatrixLoc[i,j]* MatrixFlow[k,p]*x[i,k]*x[j,p]\n",
    "    \n",
    "    return total"
   ]
  },
  {
   "cell_type": "code",
   "execution_count": 6,
   "metadata": {},
   "outputs": [],
   "source": [
    "def qap_feasible(x):\n",
    "    \"\"\"\n",
    "    Input:\n",
    "    x (numpy.ndarray) : binary string as numpy array.\n",
    "\n",
    "    Output:\n",
    "    bool: feasible or not.\n",
    "    \"\"\"\n",
    "    n = int(np.sqrt(len(x)))\n",
    "    y = np.reshape(x, (n,n))\n",
    "   \n",
    "    for i in range(n):\n",
    "        if sum(y[i, p] for p in range(n)) != 1:\n",
    "            return False\n",
    "    for p__ in range(n):\n",
    "        if sum(y[i, p__] for i in range(n)) != 1:\n",
    "            return False\n",
    "    return True"
   ]
  },
  {
   "cell_type": "code",
   "execution_count": 7,
   "metadata": {},
   "outputs": [],
   "source": [
    "def choose_best_feasible(eigenstates):\n",
    "    \"\"\"\n",
    "    Input:\n",
    "    eigenstates = dictionary\n",
    "    \n",
    "    Output:\n",
    "    feasible binary 1D numpyarray\n",
    "    probability of this answer\n",
    "    \"\"\"\n",
    "    bestinarray = sorted(eigenstates.items(), key=lambda item: item[1])[::-1]\n",
    "    feasible = False\n",
    "    counter = 0\n",
    "\n",
    "    feasible=False\n",
    "    while feasible==False and counter<len(bestinarray):\n",
    "        #string to array\n",
    "        bestasint = np.array([0])\n",
    "        for i in bestinarray[counter][0]:\n",
    "            bestasint = np.hstack((bestasint, int(i)))\n",
    "        feasible = qap_feasible(bestasint[1:])\n",
    "        frequency = bestinarray[counter][1]\n",
    "        counter += 1\n",
    "        \n",
    "    if feasible == False:\n",
    "        return feasible\n",
    "    else:\n",
    "        return bestasint[1:], frequency/total"
   ]
  },
  {
   "cell_type": "code",
   "execution_count": 8,
   "metadata": {},
   "outputs": [],
   "source": [
    "def read_optimal(ins):\n",
    "    data = pd.read_csv(\"initial_point-\" + str(ins),header = None)\n",
    "    n = len(data[0]) - 1\n",
    "    ans = []\n",
    "    data[0][0] = data[0][0][1:]\n",
    "    data[0][n] = data[0][n][:-1]\n",
    "    for i in data[0]:\n",
    "        r = i.split(\" \")\n",
    "        for t in r:\n",
    "            if t!='':\n",
    "                ans.append(float(t))\n",
    "    return np.array(ans)"
   ]
  },
  {
   "cell_type": "markdown",
   "metadata": {},
   "source": [
    "## QAOA function"
   ]
  },
  {
   "cell_type": "code",
   "execution_count": 9,
   "metadata": {},
   "outputs": [],
   "source": [
    "from qiskit.providers.aer import AerSimulator\n",
    "from math import pi"
   ]
  },
  {
   "cell_type": "code",
   "execution_count": 10,
   "metadata": {},
   "outputs": [],
   "source": [
    "def testing_quantum(machine, ins, SPtrial, SHOT, optimal_point, p_depth, number_iterations):\n",
    "    \"\"\"\n",
    "    Input:\n",
    "    machine: the name of available machine\n",
    "    ins: the QAP instance\n",
    "    SPtrial: max_trials for SPSA \n",
    "    SHOT: number of shots\n",
    "    optimal_point: numpy array of optimal points from simulator\n",
    "    p_depth = parametrized p_depth variable 1-n\n",
    "    number_iterations: number of iterations for QAOA algorithm\n",
    "    \n",
    "    Output:\n",
    "    outmatrix: 30 * [eigensolution value, time, feasibility]\n",
    "    (outfile \"thirty_trials-<machine name>-<instance name>.csv\")\n",
    "    \"\"\"\n",
    "    \n",
    "    #get matrix\n",
    "    datamatrix = CSVtoNumpyArray(ins)\n",
    "    MatrixLoc = datamatrix[0]\n",
    "    MatrixFlow = datamatrix[1]\n",
    "    n = len(MatrixLoc)\n",
    "\n",
    "    # Create an instance of a model and variables.\n",
    "    thename = \"qap\" + str(n)\n",
    "    mdl = Model(name=thename)\n",
    "    x = {(i,p): mdl.binary_var(name='x_{0}_{1}'.format(i,p)) for i in range(n) for p in range(n)}\n",
    "\n",
    "    # Object function\n",
    "    qap_func = mdl.sum(MatrixLoc[i,j]* MatrixFlow[k,p]*x[i,k]*x[j,p] \n",
    "                       for i in range(n) for j in range(n) for p in range(n) for k in range(n))\n",
    "    mdl.minimize(qap_func)\n",
    "\n",
    "    # Constraints\n",
    "    for i in range(n):\n",
    "        mdl.add_constraint(mdl.sum(x[(i,p)] for p in range(n)) == 1)\n",
    "    for p in range(n):\n",
    "        mdl.add_constraint(mdl.sum(x[(i,p)] for i in range(n)) == 1)\n",
    "    print(mdl.export_to_string())\n",
    "    qubitOp_docplex, offset_docplex = docplex.get_operator(mdl) \n",
    "\n",
    "    #Setup QAOA\n",
    "    seed = 10598\n",
    "    spsa = SPSA(maxiter=SPtrial)\n",
    "    print('num of qubits; ', qubitOp_docplex.num_qubits)\n",
    "    \n",
    "    #30 trials \n",
    "    file = open(\"thirty_trials-\" + str(machine) + \"-\" + str(ins) ,\"w\")\n",
    "    file.write(\"value,   feasible,   frequency, time, iteration\" + \"\\n\")\n",
    "    ans = np.zeros(5)\n",
    "    for i in range(number_iterations): #back to 30 bb\n",
    "\n",
    "            backend = Aer.get_backend('aer_simulator')\n",
    "\n",
    "            #backend = provider.get_backend(machine)\n",
    "            #For Aer simulator, need to pass specific options to the instance\n",
    "            quantum_instance = QuantumInstance(backend=backend,seed_simulator=seed, seed_transpiler=seed, \n",
    "                                               skip_qobj_validation = False, shots = SHOT,\n",
    "                                               backend_options = {'max_parallel_threads ':0,'blocking_enable': True,\n",
    "                                               'blocking_qubits':20})\n",
    "            \n",
    "            qaoa = QAOA(qubitOp_docplex,optimizer=spsa, p=p_depth, quantum_instance=quantum_instance,include_custom=True)\n",
    "            \n",
    "            result = qaoa.run(quantum_instance)\n",
    "            \n",
    "            #Output processing\n",
    "            print(' Eigenstate:', result['eigenstate'])\n",
    "            \n",
    "            print('QAOA time:', result['optimizer_time'])\n",
    "            \n",
    "            n = len(list(result['eigenstate'].values()))\n",
    "            \n",
    "            solution = np.hstack((np.array(list(result['eigenstate'].values())).reshape(n,1),\n",
    "                                  np.array(list(result['eigenstate'].keys())).reshape(n,1)))\n",
    "            #solution = solution.astype(np.float64)\n",
    "            \n",
    "            print(solution)    \n",
    "            \n",
    "            for r in solution:\n",
    "                #feasible_val = feasible or not, val_freq = frequency of value\n",
    "                # q_time = time to run, i = iteration number\n",
    "                redux = np.array(list(r[1])).astype(float)\n",
    "                energy_val = qap_value(redux,np.array(MatrixFlow).astype(float),np.array(MatrixLoc).astype(float))\n",
    "                feasible_val = qap_feasible(redux)\n",
    "                val_freq = float(r[0])\n",
    "                q_time = result['optimizer_time']\n",
    "                ans = np.vstack((ans,np.array([energy_val,\n",
    "                                               feasible_val,val_freq,q_time,i])))\n",
    "                file.write(str(energy_val) + \",\" + \n",
    "                           str(feasible_val) + \",\" + str(val_freq) + \",\"+ \n",
    "                           str(q_time) + \",\" + str(i) + \"\\n\")\n",
    "    return result   "
   ]
  },
  {
   "cell_type": "markdown",
   "metadata": {},
   "source": [
    "These are the cells running solutions:"
   ]
  },
  {
   "cell_type": "code",
   "execution_count": 12,
   "metadata": {},
   "outputs": [],
   "source": [
    "%%capture\n",
    "#3 by 3 thirty trials\n",
    "# this is still pretty buggy!!!\n",
    "import logging\n",
    "logging.basicConfig(level=logging.DEBUG) # log the steps of the algorithm and results\n",
    "import warnings\n",
    "warnings.filterwarnings(\"ignore\", category=DeprecationWarning) \n",
    "machines = 'aer' \n",
    "instances = \"made3ez.csv\"\n",
    "number_iterations = 30\n",
    "shots = 1024 #old 1024\n",
    "optimal_point = read_optimal(instances)\n",
    "ans = testing_quantum(machines, instances, 1, shots, optimal_point, 1, number_iterations)\n",
    "\n"
   ]
  },
  {
   "cell_type": "code",
   "execution_count": 13,
   "metadata": {},
   "outputs": [],
   "source": [
    "col_list = [\"value\",\"   feasible\",\"   frequency\",\" time\",\" iteration\"]\n",
    "df = pd.read_csv(\"thirty_trials-aer-made3ez.csv\", usecols=col_list)\n",
    "df = df.rename(columns={'   feasible': 'feasible', '   frequency': 'frequency',' time':'time',' iteration':'iteration'})"
   ]
  },
  {
   "cell_type": "code",
   "execution_count": 14,
   "metadata": {},
   "outputs": [],
   "source": [
    "#split the data depending on the iterrations on a for loop\n",
    "df_list = []\n",
    "for i in range(number_iterations):\n",
    "    df_list.append(df[df['iteration'] == i])\n"
   ]
  },
  {
   "cell_type": "code",
   "execution_count": 15,
   "metadata": {},
   "outputs": [
    {
     "data": {
      "image/png": "[encoded data removed]",
      "text/plain": [
       "<Figure size 432x288 with 1 Axes>"
      ]
     },
     "metadata": {
      "needs_background": "light"
     },
     "output_type": "display_data"
    }
   ],
   "source": [
    "#plot as dots of different colors\n",
    "#keys are value, feasible, frequency, time, iteration\n",
    "key1='frequency'\n",
    "key2='value'\n",
    "range_to_plot = 1\n",
    "for i in range(range_to_plot):\n",
    "    plt.scatter(df[key1],df[key2],cmap='coolwarm') \n",
    "plt.xlabel(key1)\n",
    "plt.ylabel(key2)\n",
    "#legend\n",
    "plt.legend([\"iteration \"+ str(i) for i in range(number_iterations)])\n",
    "#legend title\n",
    "plt.title('QAOA')\n",
    "plt.show()\n"
   ]
  },
  {
   "cell_type": "code",
   "execution_count": 39,
   "metadata": {},
   "outputs": [],
   "source": [
    "names = list(ans['eigenstate'].keys())\n",
    "values = list(ans['eigenstate'].values())"
   ]
  },
  {
   "cell_type": "code",
   "execution_count": 42,
   "metadata": {},
   "outputs": [
    {
     "data": {
      "application/vnd.plotly.v1+json": {
       "config": {
        "plotlyServerURL": "https://plot.ly"
       },
       "data": [
        {
         "marker": {
          "color": "#0343df"
         },
         "name": "Data",
         "type": "bar",
         "x": [
          "001010000",
          "101110001",
          "101101111",
          "110000100",
          "001100001",
          "100100010",
          "010001100",
          "110010010",
          "010100110",
          "000011111",
          "101010001",
          "101101101",
          "110000110",
          "011111100",
          "000100110",
          "000111010",
          "100001110",
          "001110111",
          "100010110",
          "001001011",
          "010010101",
          "110101111",
          "001100110",
          "101010100",
          "000011100",
          "011001100",
          "011100001",
          "000101101",
          "001111110",
          "100000111",
          "100011101",
          "001000000",
          "100110110",
          "000010111",
          "100101010",
          "001101011",
          "001110001",
          "001001101",
          "100001100",
          "100010000",
          "101010000",
          "101101110",
          "110000111",
          "100100001",
          "110010111",
          "001101010",
          "100100100",
          "101010101",
          "000011011",
          "100111100",
          "110010000",
          "101011101",
          "000010011",
          "100110010",
          "111001011",
          "000111011",
          "000100101",
          "010100010",
          "101001111",
          "010001101",
          "101011010",
          "110010101",
          "001101100",
          "111001101",
          "101011011",
          "000010101",
          "100110100",
          "111011010",
          "110110011",
          "011100110",
          "011001101",
          "000101100",
          "110100101",
          "100011110",
          "001000001",
          "001111101",
          "011100111",
          "011001110",
          "100001011",
          "100010001",
          "001110000",
          "000001100",
          "011010101",
          "011000000",
          "011101011",
          "111101001",
          "101000011",
          "011001001",
          "110011001",
          "111100100",
          "010101111",
          "110010011",
          "101111011",
          "001011100",
          "110011100",
          "000100000",
          "111100011",
          "010101010",
          "101000101",
          "001100000",
          "100100011",
          "010111010",
          "011011110",
          "100000010",
          "001000101",
          "011101010",
          "011000011",
          "010000010",
          "010101100",
          "101000111",
          "010011010",
          "100110000",
          "011000100",
          "011101111",
          "101111000",
          "001011001",
          "001010110",
          "101110111",
          "010111100",
          "101010010",
          "100111101",
          "111000010",
          "111001001",
          "010010001",
          "101110011",
          "100011000",
          "001111001",
          "000001001",
          "101001101",
          "010100000",
          "111000001",
          "001011000",
          "101111001",
          "111111111",
          "010100011",
          "010110011",
          "001011111",
          "111111000",
          "011100010",
          "110110100",
          "001100011",
          "100100000",
          "110111101",
          "111010110",
          "000001011",
          "100011100",
          "001000111",
          "001111011",
          "001110101",
          "000001101",
          "010010010",
          "000000110",
          "011101110",
          "011000111",
          "010010011",
          "010100111",
          "001110011",
          "100001010",
          "100010010",
          "101100000",
          "110001011",
          "100000011",
          "001111010",
          "011010001",
          "001101001",
          "011110001",
          "001101101",
          "100000001",
          "001000110",
          "001111100",
          "100011011",
          "000101010",
          "000110110",
          "110000101",
          "101010011",
          "000011101",
          "100111110",
          "111001111",
          "101111101",
          "010110000",
          "001011110",
          "010000100",
          "010011001",
          "101100111",
          "001011101",
          "000110111",
          "111110001",
          "111000111",
          "110110010",
          "001110100",
          "100001111",
          "001001010",
          "011111110",
          "100010111",
          "001001100",
          "100001101",
          "001110110",
          "011110011",
          "000000001",
          "010101000",
          "100111000",
          "000011001",
          "011110110",
          "110000011",
          "010001000",
          "101101010",
          "011001000",
          "110101010",
          "010001110",
          "111111101",
          "111101010",
          "101010111",
          "110111000",
          "110111111",
          "111010100",
          "010100001",
          "101001110",
          "010001001",
          "110000010",
          "011110111",
          "110101000",
          "111111110",
          "011011011",
          "010100101",
          "000111111",
          "001000011",
          "001111111",
          "010111000",
          "111110011",
          "000000010",
          "011100011",
          "010011011",
          "011001111",
          "011010111",
          "010011000",
          "000111000",
          "111001010",
          "001101110",
          "100101111",
          "100111001",
          "000011000",
          "111111010",
          "010011111",
          "010001011",
          "100000101",
          "100011111",
          "111011001",
          "111100110",
          "111100010",
          "111101000",
          "011000001",
          "111010101",
          "111000000",
          "101110000",
          "011011100",
          "100001000",
          "011011000",
          "110011111",
          "001101111",
          "110111010",
          "111010011",
          "111111011",
          "101101000",
          "010001010",
          "001001000",
          "111110100",
          "111110110",
          "110110000",
          "111011011",
          "100110101",
          "000010100",
          "010101110",
          "010010000",
          "111111001",
          "010110010",
          "000111110",
          "001010101",
          "011100000",
          "011010000",
          "111001000",
          "010110111",
          "000100100",
          "000111100",
          "110101001",
          "010000001",
          "111100111",
          "110110110",
          "111011101",
          "000100111",
          "010101001",
          "000000000",
          "111000101",
          "100101100",
          "011010011",
          "011011101",
          "110001000",
          "010000011",
          "000111101",
          "000110000",
          "000101000",
          "101110110",
          "001010111",
          "010101101",
          "101000000",
          "000101111",
          "010010111",
          "001010011",
          "101110010",
          "010111111",
          "010010100",
          "001100100",
          "110100000",
          "111000011",
          "000101011",
          "110101100",
          "101001000",
          "000001110",
          "110011010",
          "010100100",
          "011000101",
          "000000101",
          "101000110",
          "010101011",
          "001001001",
          "000101110",
          "011110010",
          "111010000",
          "110111011",
          "000001010",
          "010111001",
          "110110101",
          "000000100",
          "101100110",
          "110100001",
          "101100100",
          "110011011",
          "101100010",
          "011011111",
          "110110001",
          "110100100",
          "000111001",
          "101100101",
          "111101011",
          "100101101",
          "010011101",
          "111011110",
          "011110000",
          "101010110",
          "101101100",
          "010011110",
          "001111000",
          "101100001",
          "011111000",
          "111101100",
          "100110001",
          "111001110",
          "000000111",
          "100010011",
          "110001010",
          "011000010",
          "111010010",
          "110011101",
          "010000110",
          "011110101",
          "010001111",
          "101011110",
          "110101011",
          "011111010",
          "010000101",
          "110011000",
          "101111010"
         ],
         "y": [
          1,
          2,
          1,
          5,
          2,
          3,
          2,
          6,
          4,
          7,
          3,
          2,
          5,
          1,
          2,
          8,
          5,
          5,
          1,
          4,
          7,
          2,
          1,
          1,
          2,
          1,
          4,
          3,
          1,
          1,
          3,
          1,
          2,
          2,
          3,
          6,
          1,
          2,
          1,
          8,
          4,
          1,
          5,
          1,
          7,
          4,
          6,
          1,
          5,
          6,
          6,
          2,
          4,
          8,
          5,
          1,
          1,
          1,
          5,
          5,
          2,
          1,
          2,
          8,
          1,
          6,
          5,
          1,
          1,
          1,
          5,
          4,
          1,
          1,
          2,
          5,
          3,
          3,
          3,
          4,
          1,
          1,
          3,
          1,
          3,
          3,
          4,
          5,
          3,
          5,
          7,
          4,
          4,
          4,
          2,
          5,
          3,
          2,
          2,
          1,
          2,
          1,
          4,
          4,
          6,
          3,
          5,
          2,
          3,
          4,
          1,
          4,
          1,
          5,
          5,
          2,
          1,
          2,
          5,
          2,
          5,
          7,
          4,
          7,
          4,
          1,
          4,
          2,
          2,
          4,
          3,
          1,
          3,
          13,
          3,
          2,
          2,
          14,
          6,
          7,
          2,
          1,
          4,
          2,
          5,
          1,
          3,
          5,
          1,
          8,
          3,
          2,
          2,
          1,
          2,
          2,
          1,
          1,
          2,
          3,
          6,
          4,
          2,
          4,
          2,
          3,
          4,
          1,
          1,
          2,
          1,
          2,
          1,
          6,
          1,
          6,
          5,
          4,
          1,
          2,
          2,
          1,
          1,
          5,
          4,
          2,
          1,
          4,
          2,
          3,
          2,
          3,
          2,
          4,
          3,
          2,
          1,
          3,
          3,
          4,
          1,
          4,
          2,
          1,
          1,
          1,
          5,
          4,
          2,
          1,
          2,
          3,
          3,
          2,
          2,
          2,
          4,
          1,
          3,
          3,
          8,
          3,
          2,
          4,
          4,
          3,
          3,
          2,
          2,
          3,
          4,
          1,
          4,
          1,
          2,
          3,
          2,
          2,
          2,
          1,
          2,
          5,
          4,
          4,
          3,
          9,
          4,
          2,
          4,
          2,
          2,
          4,
          2,
          5,
          4,
          2,
          1,
          1,
          7,
          2,
          7,
          1,
          2,
          2,
          2,
          1,
          3,
          2,
          5,
          1,
          2,
          1,
          1,
          1,
          3,
          4,
          3,
          5,
          2,
          3,
          1,
          2,
          2,
          3,
          1,
          1,
          3,
          4,
          3,
          1,
          4,
          1,
          5,
          1,
          2,
          2,
          1,
          2,
          1,
          2,
          1,
          1,
          1,
          4,
          3,
          1,
          1,
          3,
          2,
          1,
          2,
          1,
          1,
          3,
          1,
          4,
          2,
          1,
          1,
          3,
          2,
          1,
          1,
          4,
          2,
          3,
          1,
          1,
          3,
          3,
          1,
          2,
          4,
          1,
          4,
          1,
          2,
          2,
          1,
          2,
          1,
          1,
          2,
          1,
          3,
          2,
          3,
          2,
          3,
          1,
          1,
          1,
          1,
          1,
          2,
          1,
          3,
          1,
          1,
          1,
          1,
          1,
          1,
          1,
          1,
          1,
          1,
          1,
          1,
          1,
          1
         ]
        }
       ],
       "layout": {
        "template": {
         "data": {
          "bar": [
           {
            "error_x": {
             "color": "#2a3f5f"
            },
            "error_y": {
             "color": "#2a3f5f"
            },
            "marker": {
             "line": {
              "color": "#E5ECF6",
              "width": 0.5
             },
             "pattern": {
              "fillmode": "overlay",
              "size": 10,
              "solidity": 0.2
             }
            },
            "type": "bar"
           }
          ],
          "barpolar": [
           {
            "marker": {
             "line": {
              "color": "#E5ECF6",
              "width": 0.5
             },
             "pattern": {
              "fillmode": "overlay",
              "size": 10,
              "solidity": 0.2
             }
            },
            "type": "barpolar"
           }
          ],
          "carpet": [
           {
            "aaxis": {
             "endlinecolor": "#2a3f5f",
             "gridcolor": "white",
             "linecolor": "white",
             "minorgridcolor": "white",
             "startlinecolor": "#2a3f5f"
            },
            "baxis": {
             "endlinecolor": "#2a3f5f",
             "gridcolor": "white",
             "linecolor": "white",
             "minorgridcolor": "white",
             "startlinecolor": "#2a3f5f"
            },
            "type": "carpet"
           }
          ],
          "choropleth": [
           {
            "colorbar": {
             "outlinewidth": 0,
             "ticks": ""
            },
            "type": "choropleth"
           }
          ],
          "contour": [
           {
            "colorbar": {
             "outlinewidth": 0,
             "ticks": ""
            },
            "colorscale": [
             [
              0,
              "#0d0887"
             ],
             [
              0.1111111111111111,
              "#46039f"
             ],
             [
              0.2222222222222222,
              "#7201a8"
             ],
             [
              0.3333333333333333,
              "#9c179e"
             ],
             [
              0.4444444444444444,
              "#bd3786"
             ],
             [
              0.5555555555555556,
              "#d8576b"
             ],
             [
              0.6666666666666666,
              "#ed7953"
             ],
             [
              0.7777777777777778,
              "#fb9f3a"
             ],
             [
              0.8888888888888888,
              "#fdca26"
             ],
             [
              1,
              "#f0f921"
             ]
            ],
            "type": "contour"
           }
          ],
          "contourcarpet": [
           {
            "colorbar": {
             "outlinewidth": 0,
             "ticks": ""
            },
            "type": "contourcarpet"
           }
          ],
          "heatmap": [
           {
            "colorbar": {
             "outlinewidth": 0,
             "ticks": ""
            },
            "colorscale": [
             [
              0,
              "#0d0887"
             ],
             [
              0.1111111111111111,
              "#46039f"
             ],
             [
              0.2222222222222222,
              "#7201a8"
             ],
             [
              0.3333333333333333,
              "#9c179e"
             ],
             [
              0.4444444444444444,
              "#bd3786"
             ],
             [
              0.5555555555555556,
              "#d8576b"
             ],
             [
              0.6666666666666666,
              "#ed7953"
             ],
             [
              0.7777777777777778,
              "#fb9f3a"
             ],
             [
              0.8888888888888888,
              "#fdca26"
             ],
             [
              1,
              "#f0f921"
             ]
            ],
            "type": "heatmap"
           }
          ],
          "heatmapgl": [
           {
            "colorbar": {
             "outlinewidth": 0,
             "ticks": ""
            },
            "colorscale": [
             [
              0,
              "#0d0887"
             ],
             [
              0.1111111111111111,
              "#46039f"
             ],
             [
              0.2222222222222222,
              "#7201a8"
             ],
             [
              0.3333333333333333,
              "#9c179e"
             ],
             [
              0.4444444444444444,
              "#bd3786"
             ],
             [
              0.5555555555555556,
              "#d8576b"
             ],
             [
              0.6666666666666666,
              "#ed7953"
             ],
             [
              0.7777777777777778,
              "#fb9f3a"
             ],
             [
              0.8888888888888888,
              "#fdca26"
             ],
             [
              1,
              "#f0f921"
             ]
            ],
            "type": "heatmapgl"
           }
          ],
          "histogram": [
           {
            "marker": {
             "pattern": {
              "fillmode": "overlay",
              "size": 10,
              "solidity": 0.2
             }
            },
            "type": "histogram"
           }
          ],
          "histogram2d": [
           {
            "colorbar": {
             "outlinewidth": 0,
             "ticks": ""
            },
            "colorscale": [
             [
              0,
              "#0d0887"
             ],
             [
              0.1111111111111111,
              "#46039f"
             ],
             [
              0.2222222222222222,
              "#7201a8"
             ],
             [
              0.3333333333333333,
              "#9c179e"
             ],
             [
              0.4444444444444444,
              "#bd3786"
             ],
             [
              0.5555555555555556,
              "#d8576b"
             ],
             [
              0.6666666666666666,
              "#ed7953"
             ],
             [
              0.7777777777777778,
              "#fb9f3a"
             ],
             [
              0.8888888888888888,
              "#fdca26"
             ],
             [
              1,
              "#f0f921"
             ]
            ],
            "type": "histogram2d"
           }
          ],
          "histogram2dcontour": [
           {
            "colorbar": {
             "outlinewidth": 0,
             "ticks": ""
            },
            "colorscale": [
             [
              0,
              "#0d0887"
             ],
             [
              0.1111111111111111,
              "#46039f"
             ],
             [
              0.2222222222222222,
              "#7201a8"
             ],
             [
              0.3333333333333333,
              "#9c179e"
             ],
             [
              0.4444444444444444,
              "#bd3786"
             ],
             [
              0.5555555555555556,
              "#d8576b"
             ],
             [
              0.6666666666666666,
              "#ed7953"
             ],
             [
              0.7777777777777778,
              "#fb9f3a"
             ],
             [
              0.8888888888888888,
              "#fdca26"
             ],
             [
              1,
              "#f0f921"
             ]
            ],
            "type": "histogram2dcontour"
           }
          ],
          "mesh3d": [
           {
            "colorbar": {
             "outlinewidth": 0,
             "ticks": ""
            },
            "type": "mesh3d"
           }
          ],
          "parcoords": [
           {
            "line": {
             "colorbar": {
              "outlinewidth": 0,
              "ticks": ""
             }
            },
            "type": "parcoords"
           }
          ],
          "pie": [
           {
            "automargin": true,
            "type": "pie"
           }
          ],
          "scatter": [
           {
            "marker": {
             "colorbar": {
              "outlinewidth": 0,
              "ticks": ""
             }
            },
            "type": "scatter"
           }
          ],
          "scatter3d": [
           {
            "line": {
             "colorbar": {
              "outlinewidth": 0,
              "ticks": ""
             }
            },
            "marker": {
             "colorbar": {
              "outlinewidth": 0,
              "ticks": ""
             }
            },
            "type": "scatter3d"
           }
          ],
          "scattercarpet": [
           {
            "marker": {
             "colorbar": {
              "outlinewidth": 0,
              "ticks": ""
             }
            },
            "type": "scattercarpet"
           }
          ],
          "scattergeo": [
           {
            "marker": {
             "colorbar": {
              "outlinewidth": 0,
              "ticks": ""
             }
            },
            "type": "scattergeo"
           }
          ],
          "scattergl": [
           {
            "marker": {
             "colorbar": {
              "outlinewidth": 0,
              "ticks": ""
             }
            },
            "type": "scattergl"
           }
          ],
          "scattermapbox": [
           {
            "marker": {
             "colorbar": {
              "outlinewidth": 0,
              "ticks": ""
             }
            },
            "type": "scattermapbox"
           }
          ],
          "scatterpolar": [
           {
            "marker": {
             "colorbar": {
              "outlinewidth": 0,
              "ticks": ""
             }
            },
            "type": "scatterpolar"
           }
          ],
          "scatterpolargl": [
           {
            "marker": {
             "colorbar": {
              "outlinewidth": 0,
              "ticks": ""
             }
            },
            "type": "scatterpolargl"
           }
          ],
          "scatterternary": [
           {
            "marker": {
             "colorbar": {
              "outlinewidth": 0,
              "ticks": ""
             }
            },
            "type": "scatterternary"
           }
          ],
          "surface": [
           {
            "colorbar": {
             "outlinewidth": 0,
             "ticks": ""
            },
            "colorscale": [
             [
              0,
              "#0d0887"
             ],
             [
              0.1111111111111111,
              "#46039f"
             ],
             [
              0.2222222222222222,
              "#7201a8"
             ],
             [
              0.3333333333333333,
              "#9c179e"
             ],
             [
              0.4444444444444444,
              "#bd3786"
             ],
             [
              0.5555555555555556,
              "#d8576b"
             ],
             [
              0.6666666666666666,
              "#ed7953"
             ],
             [
              0.7777777777777778,
              "#fb9f3a"
             ],
             [
              0.8888888888888888,
              "#fdca26"
             ],
             [
              1,
              "#f0f921"
             ]
            ],
            "type": "surface"
           }
          ],
          "table": [
           {
            "cells": {
             "fill": {
              "color": "#EBF0F8"
             },
             "line": {
              "color": "white"
             }
            },
            "header": {
             "fill": {
              "color": "#C8D4E3"
             },
             "line": {
              "color": "white"
             }
            },
            "type": "table"
           }
          ]
         },
         "layout": {
          "annotationdefaults": {
           "arrowcolor": "#2a3f5f",
           "arrowhead": 0,
           "arrowwidth": 1
          },
          "autotypenumbers": "strict",
          "coloraxis": {
           "colorbar": {
            "outlinewidth": 0,
            "ticks": ""
           }
          },
          "colorscale": {
           "diverging": [
            [
             0,
             "#8e0152"
            ],
            [
             0.1,
             "#c51b7d"
            ],
            [
             0.2,
             "#de77ae"
            ],
            [
             0.3,
             "#f1b6da"
            ],
            [
             0.4,
             "#fde0ef"
            ],
            [
             0.5,
             "#f7f7f7"
            ],
            [
             0.6,
             "#e6f5d0"
            ],
            [
             0.7,
             "#b8e186"
            ],
            [
             0.8,
             "#7fbc41"
            ],
            [
             0.9,
             "#4d9221"
            ],
            [
             1,
             "#276419"
            ]
           ],
           "sequential": [
            [
             0,
             "#0d0887"
            ],
            [
             0.1111111111111111,
             "#46039f"
            ],
            [
             0.2222222222222222,
             "#7201a8"
            ],
            [
             0.3333333333333333,
             "#9c179e"
            ],
            [
             0.4444444444444444,
             "#bd3786"
            ],
            [
             0.5555555555555556,
             "#d8576b"
            ],
            [
             0.6666666666666666,
             "#ed7953"
            ],
            [
             0.7777777777777778,
             "#fb9f3a"
            ],
            [
             0.8888888888888888,
             "#fdca26"
            ],
            [
             1,
             "#f0f921"
            ]
           ],
           "sequentialminus": [
            [
             0,
             "#0d0887"
            ],
            [
             0.1111111111111111,
             "#46039f"
            ],
            [
             0.2222222222222222,
             "#7201a8"
            ],
            [
             0.3333333333333333,
             "#9c179e"
            ],
            [
             0.4444444444444444,
             "#bd3786"
            ],
            [
             0.5555555555555556,
             "#d8576b"
            ],
            [
             0.6666666666666666,
             "#ed7953"
            ],
            [
             0.7777777777777778,
             "#fb9f3a"
            ],
            [
             0.8888888888888888,
             "#fdca26"
            ],
            [
             1,
             "#f0f921"
            ]
           ]
          },
          "colorway": [
           "#636efa",
           "#EF553B",
           "#00cc96",
           "#ab63fa",
           "#FFA15A",
           "#19d3f3",
           "#FF6692",
           "#B6E880",
           "#FF97FF",
           "#FECB52"
          ],
          "font": {
           "color": "#2a3f5f"
          },
          "geo": {
           "bgcolor": "white",
           "lakecolor": "white",
           "landcolor": "#E5ECF6",
           "showlakes": true,
           "showland": true,
           "subunitcolor": "white"
          },
          "hoverlabel": {
           "align": "left"
          },
          "hovermode": "closest",
          "mapbox": {
           "style": "light"
          },
          "paper_bgcolor": "white",
          "plot_bgcolor": "#E5ECF6",
          "polar": {
           "angularaxis": {
            "gridcolor": "white",
            "linecolor": "white",
            "ticks": ""
           },
           "bgcolor": "#E5ECF6",
           "radialaxis": {
            "gridcolor": "white",
            "linecolor": "white",
            "ticks": ""
           }
          },
          "scene": {
           "xaxis": {
            "backgroundcolor": "#E5ECF6",
            "gridcolor": "white",
            "gridwidth": 2,
            "linecolor": "white",
            "showbackground": true,
            "ticks": "",
            "zerolinecolor": "white"
           },
           "yaxis": {
            "backgroundcolor": "#E5ECF6",
            "gridcolor": "white",
            "gridwidth": 2,
            "linecolor": "white",
            "showbackground": true,
            "ticks": "",
            "zerolinecolor": "white"
           },
           "zaxis": {
            "backgroundcolor": "#E5ECF6",
            "gridcolor": "white",
            "gridwidth": 2,
            "linecolor": "white",
            "showbackground": true,
            "ticks": "",
            "zerolinecolor": "white"
           }
          },
          "shapedefaults": {
           "line": {
            "color": "#2a3f5f"
           }
          },
          "ternary": {
           "aaxis": {
            "gridcolor": "white",
            "linecolor": "white",
            "ticks": ""
           },
           "baxis": {
            "gridcolor": "white",
            "linecolor": "white",
            "ticks": ""
           },
           "bgcolor": "#E5ECF6",
           "caxis": {
            "gridcolor": "white",
            "linecolor": "white",
            "ticks": ""
           }
          },
          "title": {
           "x": 0.05
          },
          "xaxis": {
           "automargin": true,
           "gridcolor": "white",
           "linecolor": "white",
           "ticks": "",
           "title": {
            "standoff": 15
           },
           "zerolinecolor": "white",
           "zerolinewidth": 2
          },
          "yaxis": {
           "automargin": true,
           "gridcolor": "white",
           "linecolor": "white",
           "ticks": "",
           "title": {
            "standoff": 15
           },
           "zerolinecolor": "white",
           "zerolinewidth": 2
          }
         }
        },
        "title": {
         "text": "Frequency of different QAOA measurements",
         "x": 0.5
        },
        "xaxis": {
         "tickmode": "array",
         "ticktext": [
          "001010000",
          "101110001",
          "101101111",
          "110000100",
          "001100001",
          "100100010",
          "010001100",
          "110010010",
          "010100110",
          "000011111",
          "101010001",
          "101101101",
          "110000110",
          "011111100",
          "000100110",
          "000111010",
          "100001110",
          "001110111",
          "100010110",
          "001001011",
          "010010101",
          "110101111",
          "001100110",
          "101010100",
          "000011100",
          "011001100",
          "011100001",
          "000101101",
          "001111110",
          "100000111",
          "100011101",
          "001000000",
          "100110110",
          "000010111",
          "100101010",
          "001101011",
          "001110001",
          "001001101",
          "100001100",
          "100010000",
          "101010000",
          "101101110",
          "110000111",
          "100100001",
          "110010111",
          "001101010",
          "100100100",
          "101010101",
          "000011011",
          "100111100",
          "110010000",
          "101011101",
          "000010011",
          "100110010",
          "111001011",
          "000111011",
          "000100101",
          "010100010",
          "101001111",
          "010001101",
          "101011010",
          "110010101",
          "001101100",
          "111001101",
          "101011011",
          "000010101",
          "100110100",
          "111011010",
          "110110011",
          "011100110",
          "011001101",
          "000101100",
          "110100101",
          "100011110",
          "001000001",
          "001111101",
          "011100111",
          "011001110",
          "100001011",
          "100010001",
          "001110000",
          "000001100",
          "011010101",
          "011000000",
          "011101011",
          "111101001",
          "101000011",
          "011001001",
          "110011001",
          "111100100",
          "010101111",
          "110010011",
          "101111011",
          "001011100",
          "110011100",
          "000100000",
          "111100011",
          "010101010",
          "101000101",
          "001100000",
          "100100011",
          "010111010",
          "011011110",
          "100000010",
          "001000101",
          "011101010",
          "011000011",
          "010000010",
          "010101100",
          "101000111",
          "010011010",
          "100110000",
          "011000100",
          "011101111",
          "101111000",
          "001011001",
          "001010110",
          "101110111",
          "010111100",
          "101010010",
          "100111101",
          "111000010",
          "111001001",
          "010010001",
          "101110011",
          "100011000",
          "001111001",
          "000001001",
          "101001101",
          "010100000",
          "111000001",
          "001011000",
          "101111001",
          "111111111",
          "010100011",
          "010110011",
          "001011111",
          "111111000",
          "011100010",
          "110110100",
          "001100011",
          "100100000",
          "110111101",
          "111010110",
          "000001011",
          "100011100",
          "001000111",
          "001111011",
          "001110101",
          "000001101",
          "010010010",
          "000000110",
          "011101110",
          "011000111",
          "010010011",
          "010100111",
          "001110011",
          "100001010",
          "100010010",
          "101100000",
          "110001011",
          "100000011",
          "001111010",
          "011010001",
          "001101001",
          "011110001",
          "001101101",
          "100000001",
          "001000110",
          "001111100",
          "100011011",
          "000101010",
          "000110110",
          "110000101",
          "101010011",
          "000011101",
          "100111110",
          "111001111",
          "101111101",
          "010110000",
          "001011110",
          "010000100",
          "010011001",
          "101100111",
          "001011101",
          "000110111",
          "111110001",
          "111000111",
          "110110010",
          "001110100",
          "100001111",
          "001001010",
          "011111110",
          "100010111",
          "001001100",
          "100001101",
          "001110110",
          "011110011",
          "000000001",
          "010101000",
          "100111000",
          "000011001",
          "011110110",
          "110000011",
          "010001000",
          "101101010",
          "011001000",
          "110101010",
          "010001110",
          "111111101",
          "111101010",
          "101010111",
          "110111000",
          "110111111",
          "111010100",
          "010100001",
          "101001110",
          "010001001",
          "110000010",
          "011110111",
          "110101000",
          "111111110",
          "011011011",
          "010100101",
          "000111111",
          "001000011",
          "001111111",
          "010111000",
          "111110011",
          "000000010",
          "011100011",
          "010011011",
          "011001111",
          "011010111",
          "010011000",
          "000111000",
          "111001010",
          "001101110",
          "100101111",
          "100111001",
          "000011000",
          "111111010",
          "010011111",
          "010001011",
          "100000101",
          "100011111",
          "111011001",
          "111100110",
          "111100010",
          "111101000",
          "011000001",
          "111010101",
          "111000000",
          "101110000",
          "011011100",
          "100001000",
          "011011000",
          "110011111",
          "001101111",
          "110111010",
          "111010011",
          "111111011",
          "101101000",
          "010001010",
          "001001000",
          "111110100",
          "111110110",
          "110110000",
          "111011011",
          "100110101",
          "000010100",
          "010101110",
          "010010000",
          "111111001",
          "010110010",
          "000111110",
          "001010101",
          "011100000",
          "011010000",
          "111001000",
          "010110111",
          "000100100",
          "000111100",
          "110101001",
          "010000001",
          "111100111",
          "110110110",
          "111011101",
          "000100111",
          "010101001",
          "000000000",
          "111000101",
          "100101100",
          "011010011",
          "011011101",
          "110001000",
          "010000011",
          "000111101",
          "000110000",
          "000101000",
          "101110110",
          "001010111",
          "010101101",
          "101000000",
          "000101111",
          "010010111",
          "001010011",
          "101110010",
          "010111111",
          "010010100",
          "001100100",
          "110100000",
          "111000011",
          "000101011",
          "110101100",
          "101001000",
          "000001110",
          "110011010",
          "010100100",
          "011000101",
          "000000101",
          "101000110",
          "010101011",
          "001001001",
          "000101110",
          "011110010",
          "111010000",
          "110111011",
          "000001010",
          "010111001",
          "110110101",
          "000000100",
          "101100110",
          "110100001",
          "101100100",
          "110011011",
          "101100010",
          "011011111",
          "110110001",
          "110100100",
          "000111001",
          "101100101",
          "111101011",
          "100101101",
          "010011101",
          "111011110",
          "011110000",
          "101010110",
          "101101100",
          "010011110",
          "001111000",
          "101100001",
          "011111000",
          "111101100",
          "100110001",
          "111001110",
          "000000111",
          "100010011",
          "110001010",
          "011000010",
          "111010010",
          "110011101",
          "010000110",
          "011110101",
          "010001111",
          "101011110",
          "110101011",
          "011111010",
          "010000101",
          "110011000",
          "101111010"
         ],
         "tickvals": [
          0,
          1,
          2,
          3,
          4,
          5,
          6,
          7,
          8,
          9,
          10,
          11,
          12,
          13,
          14,
          15,
          16,
          17,
          18,
          19,
          20,
          21,
          22,
          23,
          24,
          25,
          26,
          27,
          28,
          29,
          30,
          31,
          32,
          33,
          34,
          35,
          36,
          37,
          38,
          39,
          40,
          41,
          42,
          43,
          44,
          45,
          46,
          47,
          48,
          49,
          50,
          51,
          52,
          53,
          54,
          55,
          56,
          57,
          58,
          59,
          60,
          61,
          62,
          63,
          64,
          65,
          66,
          67,
          68,
          69,
          70,
          71,
          72,
          73,
          74,
          75,
          76,
          77,
          78,
          79,
          80,
          81,
          82,
          83,
          84,
          85,
          86,
          87,
          88,
          89,
          90,
          91,
          92,
          93,
          94,
          95,
          96,
          97,
          98,
          99,
          100,
          101,
          102,
          103,
          104,
          105,
          106,
          107,
          108,
          109,
          110,
          111,
          112,
          113,
          114,
          115,
          116,
          117,
          118,
          119,
          120,
          121,
          122,
          123,
          124,
          125,
          126,
          127,
          128,
          129,
          130,
          131,
          132,
          133,
          134,
          135,
          136,
          137,
          138,
          139,
          140,
          141,
          142,
          143,
          144,
          145,
          146,
          147,
          148,
          149,
          150,
          151,
          152,
          153,
          154,
          155,
          156,
          157,
          158,
          159,
          160,
          161,
          162,
          163,
          164,
          165,
          166,
          167,
          168,
          169,
          170,
          171,
          172,
          173,
          174,
          175,
          176,
          177,
          178,
          179,
          180,
          181,
          182,
          183,
          184,
          185,
          186,
          187,
          188,
          189,
          190,
          191,
          192,
          193,
          194,
          195,
          196,
          197,
          198,
          199,
          200,
          201,
          202,
          203,
          204,
          205,
          206,
          207,
          208,
          209,
          210,
          211,
          212,
          213,
          214,
          215,
          216,
          217,
          218,
          219,
          220,
          221,
          222,
          223,
          224,
          225,
          226,
          227,
          228,
          229,
          230,
          231,
          232,
          233,
          234,
          235,
          236,
          237,
          238,
          239,
          240,
          241,
          242,
          243,
          244,
          245,
          246,
          247,
          248,
          249,
          250,
          251,
          252,
          253,
          254,
          255,
          256,
          257,
          258,
          259,
          260,
          261,
          262,
          263,
          264,
          265,
          266,
          267,
          268,
          269,
          270,
          271,
          272,
          273,
          274,
          275,
          276,
          277,
          278,
          279,
          280,
          281,
          282,
          283,
          284,
          285,
          286,
          287,
          288,
          289,
          290,
          291,
          292,
          293,
          294,
          295,
          296,
          297,
          298,
          299,
          300,
          301,
          302,
          303,
          304,
          305,
          306,
          307,
          308,
          309,
          310,
          311,
          312,
          313,
          314,
          315,
          316,
          317,
          318,
          319,
          320,
          321,
          322,
          323,
          324,
          325,
          326,
          327,
          328,
          329,
          330,
          331,
          332,
          333,
          334,
          335,
          336,
          337,
          338,
          339,
          340,
          341,
          342,
          343,
          344,
          345,
          346,
          347,
          348,
          349,
          350,
          351,
          352,
          353,
          354,
          355,
          356,
          357,
          358,
          359,
          360,
          361,
          362,
          363,
          364,
          365,
          366,
          367,
          368,
          369,
          370
         ]
        },
        "yaxis": {
         "title": {
          "text": "Frequency"
         }
        }
       }
      }
     },
     "metadata": {},
     "output_type": "display_data"
    }
   ],
   "source": [
    "import plotly.graph_objects as go\n",
    "\n",
    "# Specify the plots\n",
    "bar_plots = [\n",
    "    go.Bar(x=names, y=values, name='Data', marker=go.bar.Marker(color='#0343df')),\n",
    "]\n",
    "# Customise some display properties\n",
    "layout = go.Layout(\n",
    "    title=go.layout.Title(text=\"Frequency of different QAOA measurements\", x=0.5),\n",
    "    yaxis_title=\"Frequency\",\n",
    "    xaxis_tickmode=\"array\",\n",
    "    xaxis_tickvals=list(range(len(names))),\n",
    "    xaxis_ticktext=tuple(names),\n",
    ")\n",
    "# Make the multi-bar plot\n",
    "fig = go.Figure(data=bar_plots, layout=layout)\n",
    "# Tell Plotly to render it\n",
    "fig.show()"
   ]
  },
  {
   "cell_type": "code",
   "execution_count": 43,
   "metadata": {},
   "outputs": [
    {
     "data": {
      "text/plain": [
       "{'qiskit-terra': '0.19.1', 'qiskit-aer': '0.10.2', 'qiskit-ignis': '0.7.0', 'qiskit-ibmq-provider': '0.18.3', 'qiskit-aqua': '0.9.5', 'qiskit': '0.34.1', 'qiskit-nature': None, 'qiskit-finance': None, 'qiskit-optimization': '0.3.0', 'qiskit-machine-learning': None}"
      ]
     },
     "execution_count": 43,
     "metadata": {},
     "output_type": "execute_result"
    }
   ],
   "source": [
    "qiskit.__qiskit_version__"
   ]
  }
 ],
 "metadata": {
  "kernelspec": {
   "display_name": "Python 3",
   "language": "python",
   "name": "python3"
  },
  "language_info": {
   "codemirror_mode": {
    "name": "ipython",
    "version": 3
   },
   "file_extension": ".py",
   "mimetype": "text/x-python",
   "name": "python",
   "nbconvert_exporter": "python",
   "pygments_lexer": "ipython3",
   "version": "3.7.11"
  }
 },
 "nbformat": 4,
 "nbformat_minor": 2
}
